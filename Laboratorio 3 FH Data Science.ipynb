{
 "cells": [
  {
   "attachments": {},
   "cell_type": "markdown",
   "metadata": {},
   "source": [
    "### Laboratorio: Análisis de Datos con Python"
   ]
  },
  {
   "attachments": {},
   "cell_type": "markdown",
   "metadata": {},
   "source": [
    "1) ¿Cuál es el tamaño en bytes de un array de 1000 elementos de tipo booleano?"
   ]
  },
  {
   "cell_type": "code",
   "execution_count": 30,
   "metadata": {},
   "outputs": [
    {
     "name": "stdout",
     "output_type": "stream",
     "text": [
      "El tamaño de un elemento booleano True es de 28 bytes\n",
      "El tamaño de un elemento booleano False es de 24 bytes\n",
      "El tamaño de un arreglo de 100 elementos de tipo booleano es de 204 bytes\n"
     ]
    }
   ],
   "source": [
    "import sys\n",
    "import numpy as np\n",
    "# Primero vemos el tamaño de un dato de tipo booleano\n",
    "print(f\"El tamaño de un elemento booleano True es de {sys.getsizeof(True)} bytes\")\n",
    "print(f\"El tamaño de un elemento booleano False es de {sys.getsizeof(False)} bytes\")\n",
    "arreglo = np.empty(100,dtype=bool)\n",
    "print(f\"El tamaño de un arreglo de 100 elementos de tipo booleano es de {sys.getsizeof(arreglo)} bytes\")"
   ]
  }
 ],
 "metadata": {
  "kernelspec": {
   "display_name": "base",
   "language": "python",
   "name": "python3"
  },
  "language_info": {
   "codemirror_mode": {
    "name": "ipython",
    "version": 3
   },
   "file_extension": ".py",
   "mimetype": "text/x-python",
   "name": "python",
   "nbconvert_exporter": "python",
   "pygments_lexer": "ipython3",
   "version": "3.9.13"
  },
  "orig_nbformat": 4
 },
 "nbformat": 4,
 "nbformat_minor": 2
}
