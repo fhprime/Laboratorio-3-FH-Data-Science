{
 "cells": [
  {
   "attachments": {},
   "cell_type": "markdown",
   "metadata": {},
   "source": [
    "### Laboratorio: Análisis de Datos con Python"
   ]
  },
  {
   "attachments": {},
   "cell_type": "markdown",
   "metadata": {},
   "source": [
    "1) ¿Cuál es el tamaño en bytes de un array de 1000 elementos de tipo booleano?"
   ]
  },
  {
   "cell_type": "code",
   "execution_count": 30,
   "metadata": {},
   "outputs": [
    {
     "name": "stdout",
     "output_type": "stream",
     "text": [
      "El tamaño de un elemento booleano True es de 28 bytes\n",
      "El tamaño de un elemento booleano False es de 24 bytes\n",
      "El tamaño de un arreglo de 100 elementos de tipo booleano es de 204 bytes\n"
     ]
    }
   ],
   "source": [
    "import sys\n",
    "import numpy as np\n",
    "# Primero vemos el tamaño de un dato de tipo booleano\n",
    "print(f\"El tamaño de un elemento booleano True es de {sys.getsizeof(True)} bytes\")\n",
    "print(f\"El tamaño de un elemento booleano False es de {sys.getsizeof(False)} bytes\")\n",
    "arreglo = np.empty(100,dtype=bool)\n",
    "print(f\"El tamaño de un arreglo de 100 elementos de tipo booleano es de {sys.getsizeof(arreglo)} bytes\")"
   ]
  },
  {
   "attachments": {},
   "cell_type": "markdown",
   "metadata": {},
   "source": [
    "2. Cree un array cuyos elementos sean los enteros pares en\n",
    "[1,100] y en orden decreciente. Muestre los 10 últimos\n",
    "por pantalla."
   ]
  },
  {
   "cell_type": "code",
   "execution_count": 36,
   "metadata": {},
   "outputs": [
    {
     "name": "stdout",
     "output_type": "stream",
     "text": [
      "[20, 18, 16, 14, 12, 10, 8, 6, 4, 2]\n"
     ]
    }
   ],
   "source": [
    "array_numbers = []\n",
    "for i in range(100,0,-1):\n",
    "    if((i%2) == 0):\n",
    "        array_numbers.append(i)\n",
    "print(array_numbers[40:50]) # Imprimo los ultimos 10 numeros pares del arreglo "
   ]
  },
  {
   "attachments": {},
   "cell_type": "markdown",
   "metadata": {},
   "source": [
    "3. Dado el array\n",
    "2 4 5 6\n",
    "0 3 7 4\n",
    "8 8 5 2\n",
    "1 5 6 1\n",
    "Seleccione con una \n",
    "instrucción el subarray de elementos\n",
    "0 3 7 4\n",
    "Después, seleccione el subarray de elementos\n",
    "2 5\n",
    "8 5"
   ]
  },
  {
   "cell_type": "code",
   "execution_count": 53,
   "metadata": {},
   "outputs": [
    {
     "data": {
      "text/plain": [
       "[[2, 4, 5, 6], [0, 3, 7, 4], [8, 8, 5, 2], [1, 5, 6, 1]]"
      ]
     },
     "execution_count": 53,
     "metadata": {},
     "output_type": "execute_result"
    }
   ],
   "source": [
    "array_matriz = [[2,4,5,6],[0,3,7,4],[8,8,5,2],[1,5,6,1]]\n",
    "array_matriz[1] #Selecciono subarray de elementos\n",
    "array_aux = [] # Creo un array auxiliar para guardar los datos\n",
    "array_aux.append([[array_matriz[0][0],array_matriz[0][2]],[array_matriz[2][1],array_matriz[2][2]]])\n",
    "array_matriz # Selcciono elementos 2, 5, 8, 5"
   ]
  },
  {
   "attachments": {},
   "cell_type": "markdown",
   "metadata": {},
   "source": [
    "4. Dados los arrays a = [1, 4, 2, 7] y b = [1, 3, 2, 9],\n",
    "obtenga la media aritmética de la diferencia (a-b)."
   ]
  },
  {
   "cell_type": "code",
   "execution_count": 65,
   "metadata": {},
   "outputs": [
    {
     "name": "stdout",
     "output_type": "stream",
     "text": [
      "La diferencia entre a y b es de [0, 1, 0, -2]\n",
      "La media arimetica entre los dos arreglos es de: 3.625\n"
     ]
    }
   ],
   "source": [
    "a = [1,4,2,7]\n",
    "b = [1,3,2,9]\n",
    "\n",
    "dif_aux = []\n",
    "suma = 0\n",
    "# Calculo diferencia entre a y b\n",
    "for x in range(0,len(a)):\n",
    "    dif_aux.append(a[x]-b[x])\n",
    "    suma = suma + (a[x]+b[x])\n",
    "print(f\"La diferencia entre a y b es de {dif_aux}\")\n",
    "print(f\"La media arimetica entre los dos arreglos es de: {suma/(len(a)+len(b))}\")"
   ]
  },
  {
   "attachments": {},
   "cell_type": "markdown",
   "metadata": {},
   "source": [
    "5. Tengo valores de cordenadas (x, y) en las columnas\n",
    "del array\n",
    "1.33 4.5\n",
    "30.0 10.7\n",
    "70.2 0.5\n",
    "\n",
    "Agregue a este array las coordenadas (37.1, -3.6).\n",
    "Muestre en pantalla las dimensiones del nuevo\n",
    "array."
   ]
  },
  {
   "cell_type": "code",
   "execution_count": 68,
   "metadata": {},
   "outputs": [
    {
     "data": {
      "text/plain": [
       "[[1.33, 4.5], [30.0, 10.7], [70.2, 0.5], [37.1, -3.6]]"
      ]
     },
     "execution_count": 68,
     "metadata": {},
     "output_type": "execute_result"
    }
   ],
   "source": [
    "coordenadas = [[1.33,4.5],[30.0,10.7],[70.2,0.5]]\n",
    "coordenadas.append([37.1,-3.6])\n",
    "coordenadas # nuevo array con coordenadas nuevas y dimensiones "
   ]
  },
  {
   "attachments": {},
   "cell_type": "markdown",
   "metadata": {},
   "source": [
    "6. Copie el array del ejercicio anterior. Traspóngalo (.\n",
    "Agregue ahora dos nuevos pares de coordenadas: (10.8,\n",
    "3.0) y (35.8, 12.0)."
   ]
  },
  {
   "cell_type": "code",
   "execution_count": 71,
   "metadata": {},
   "outputs": [
    {
     "data": {
      "text/plain": [
       "array([[ 1.33, 30.  , 70.2 , 37.1 ],\n",
       "       [ 4.5 , 10.7 ,  0.5 , -3.6 ]])"
      ]
     },
     "execution_count": 71,
     "metadata": {},
     "output_type": "execute_result"
    }
   ],
   "source": [
    "array_coordenadas = np.array(coordenadas)\n",
    "transpose = np.transpose(array_coordenadas)\n",
    "transpose #Obtengo matriz transpuesta"
   ]
  }
 ],
 "metadata": {
  "kernelspec": {
   "display_name": "base",
   "language": "python",
   "name": "python3"
  },
  "language_info": {
   "codemirror_mode": {
    "name": "ipython",
    "version": 3
   },
   "file_extension": ".py",
   "mimetype": "text/x-python",
   "name": "python",
   "nbconvert_exporter": "python",
   "pygments_lexer": "ipython3",
   "version": "3.9.13"
  },
  "orig_nbformat": 4
 },
 "nbformat": 4,
 "nbformat_minor": 2
}
